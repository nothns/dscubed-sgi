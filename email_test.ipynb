{
 "cells": [
  {
   "cell_type": "code",
   "execution_count": 3,
   "metadata": {
    "collapsed": true
   },
   "outputs": [
    {
     "name": "stdout",
     "output_type": "stream",
     "text": [
      "Test email sent!\n"
     ]
    }
   ],
   "source": [
    "import smtplib\n",
    "from email.mime.multipart import MIMEMultipart\n",
    "from email.mime.text import MIMEText\n",
    "\n",
    "def send_test_email():\n",
    "    from_address = \"nathan.luo@dscubed.org.au\"  # replace with your email\n",
    "    password = \"nmrocrhtfymydzsz\"  # replace with your password\n",
    "\n",
    "    # Setup the MIME\n",
    "    message = MIMEMultipart()\n",
    "    message['From'] = \"nathan.luo@dscubed.org.au\"\n",
    "    message['To'] = \"nathan.luo@dscubed.org.au\"\n",
    "    message['Subject'] = \"Test Email\"   # Subject of the email\n",
    "\n",
    "    # Attach the message to the MIME object\n",
    "    message_text = \"This is a test email.\"\n",
    "    message.attach(MIMEText(message_text, 'plain'))\n",
    "\n",
    "    # Use SMTP to send the email\n",
    "    try:\n",
    "        server = smtplib.SMTP('smtp.gmail.com', 587)  # Use Gmail's SMTP server\n",
    "        server.starttls()  # Start TLS encryption\n",
    "        server.login(from_address, password)\n",
    "        text = message.as_string()\n",
    "        server.sendmail(from_address, from_address, text)\n",
    "        server.quit()\n",
    "        print(\"Test email sent!\")\n",
    "    except Exception as e:\n",
    "        print(f\"Failed to send test email due to {str(e)}\")\n",
    "\n",
    "# Call the function to send the test email\n",
    "send_test_email()"
   ]
  },
  {
   "cell_type": "code",
   "execution_count": null,
   "outputs": [],
   "source": [],
   "metadata": {
    "collapsed": false
   }
  }
 ],
 "metadata": {
  "kernelspec": {
   "display_name": "Python 3",
   "language": "python",
   "name": "python3"
  },
  "language_info": {
   "codemirror_mode": {
    "name": "ipython",
    "version": 2
   },
   "file_extension": ".py",
   "mimetype": "text/x-python",
   "name": "python",
   "nbconvert_exporter": "python",
   "pygments_lexer": "ipython2",
   "version": "2.7.6"
  }
 },
 "nbformat": 4,
 "nbformat_minor": 0
}
